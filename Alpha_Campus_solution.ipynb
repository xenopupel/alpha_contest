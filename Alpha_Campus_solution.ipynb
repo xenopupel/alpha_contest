{
 "cells": [
  {
   "cell_type": "markdown",
   "source": [
    "# Рекомендательная модель LightFM"
   ],
   "metadata": {
    "collapsed": false
   },
   "id": "3f009e431d6e4ea8"
  },
  {
   "cell_type": "code",
   "execution_count": 195,
   "outputs": [],
   "source": [
    "import pandas as pd\n",
    "from lightfm import LightFM\n",
    "from lightfm.data import Dataset\n",
    "import numpy as np\n",
    "import warnings\n",
    "from collections import Counter\n",
    "\n",
    "warnings.filterwarnings(\"ignore\")"
   ],
   "metadata": {
    "collapsed": false,
    "ExecuteTime": {
     "end_time": "2023-10-16T16:16:58.688563Z",
     "start_time": "2023-10-16T16:16:58.604982Z"
    }
   },
   "id": "initial_id"
  },
  {
   "cell_type": "code",
   "execution_count": 196,
   "outputs": [],
   "source": [
    "def apk(actual, predicted, k=10):\n",
    "    if len(predicted) > k:\n",
    "        predicted = predicted[:k]\n",
    "\n",
    "    score = 0.0\n",
    "    num_hits = 0.0\n",
    "\n",
    "    for i, p in enumerate(predicted):\n",
    "        if p in actual and p not in predicted[:i]:\n",
    "            num_hits += 1.0\n",
    "            score += num_hits / (i+1.0)\n",
    "\n",
    "    if not actual:\n",
    "        return 0.0\n",
    "\n",
    "    return score / min(len(actual), k)\n",
    "\n",
    "def mapk(actual, predicted, k=10):\n",
    "    return np.mean([apk(a, p, k) for a, p in zip(actual, predicted)])"
   ],
   "metadata": {
    "collapsed": false,
    "ExecuteTime": {
     "end_time": "2023-10-16T16:16:58.737426Z",
     "start_time": "2023-10-16T16:16:58.631145Z"
    }
   },
   "id": "ed0065ca11b6320"
  },
  {
   "cell_type": "code",
   "execution_count": 197,
   "outputs": [],
   "source": [
    "train_data = pd.read_csv('df_train.csv', delimiter=';')\n",
    "test_data = pd.read_csv('df_test.csv', delimiter=';')"
   ],
   "metadata": {
    "collapsed": false,
    "ExecuteTime": {
     "end_time": "2023-10-16T16:16:59.283245Z",
     "start_time": "2023-10-16T16:16:58.642286Z"
    }
   },
   "id": "1ab483e603d451df"
  },
  {
   "cell_type": "markdown",
   "source": [
    "Достаю все нужные MCC для каждого юзера в отдельные листы, а так же нахожу все уникальные MCC-коды:"
   ],
   "metadata": {
    "collapsed": false
   },
   "id": "fdc3aa739122cae4"
  },
  {
   "cell_type": "code",
   "execution_count": 198,
   "outputs": [],
   "source": [
    "user_ids = train_data['Id']\n",
    "mcc_lists = train_data['Data'].apply(lambda x: list(map(int, x.split(','))))\n",
    "mcc_lists_train_target = train_data['Target'].apply(lambda x: list(map(int, x.split(','))))\n",
    "test_mcc_lists = test_data['Data'].apply(lambda x: list(map(int, x.split(','))))\n",
    "\n",
    "unique_mccs = list(set(mcc for mcc_list in mcc_lists for mcc in mcc_list))\n",
    "unique_mccs.sort()"
   ],
   "metadata": {
    "collapsed": false,
    "ExecuteTime": {
     "start_time": "2023-10-16T16:16:59.312742Z"
    }
   },
   "id": "81e497fde27cae99"
  },
  {
   "cell_type": "markdown",
   "source": [
    "Создаю словари для шифрования и обратного шифрования кодов:"
   ],
   "metadata": {
    "collapsed": false
   },
   "id": "4aca4fb608caad73"
  },
  {
   "cell_type": "code",
   "execution_count": 199,
   "outputs": [],
   "source": [
    "mcc_to_id = {value: index for index, value in enumerate(unique_mccs)}\n",
    "id_to_mcc = {index: value for index, value in enumerate(unique_mccs)}"
   ],
   "metadata": {
    "collapsed": false,
    "ExecuteTime": {
     "end_time": "2023-10-16T16:17:01.793186Z",
     "start_time": "2023-10-16T16:17:01.768459Z"
    }
   },
   "id": "661908655a454e03"
  },
  {
   "cell_type": "markdown",
   "source": [
    "Тут, для каждого пользователя, я создаю словарь, в котором будет храниться информация о том, сколько раз каждый уникальный MCC-код встретился в истории покупок пользователя. Все эти словари хранятся в одном большом словаре. Коды храняться в виде шифров. Все это нужно для правильного заполнения разреженной матрицы для последующего обучения модели LightFM\n",
    " "
   ],
   "metadata": {
    "collapsed": false
   },
   "id": "73b74ab05b6ce587"
  },
  {
   "cell_type": "code",
   "execution_count": 200,
   "outputs": [],
   "source": [
    "dicts = []\n",
    "for user in user_ids:\n",
    "    dictionary = {}\n",
    "    for el in mcc_lists[user]:\n",
    "        if mcc_to_id[el] in dictionary:\n",
    "            dictionary[mcc_to_id[el]] += 1\n",
    "        else:\n",
    "            dictionary[mcc_to_id[el]] = 1\n",
    "    dicts.append(dictionary)"
   ],
   "metadata": {
    "collapsed": false,
    "ExecuteTime": {
     "end_time": "2023-10-16T16:17:02.766618Z",
     "start_time": "2023-10-16T16:17:01.802960Z"
    }
   },
   "id": "23629fb6610cc43a"
  },
  {
   "cell_type": "markdown",
   "source": [
    "Привожу данные к нужному для модели формату и определяю названия рядов и колонок таблицы:"
   ],
   "metadata": {
    "collapsed": false
   },
   "id": "2732b81c10f0db0b"
  },
  {
   "cell_type": "code",
   "execution_count": 201,
   "outputs": [],
   "source": [
    "interactions_data = []\n",
    "for user_id, user_dict in enumerate(dicts):\n",
    "    for mcc_id, count in user_dict.items():\n",
    "        interactions_data.append((user_id, mcc_id, count))\n",
    "\n",
    "df_column = [y for x, y in mcc_to_id.items()]\n",
    "df_row = train_data['Id']"
   ],
   "metadata": {
    "collapsed": false,
    "ExecuteTime": {
     "end_time": "2023-10-16T16:17:02.791911Z",
     "start_time": "2023-10-16T16:17:02.758097Z"
    }
   },
   "id": "7a5086d377bc1926"
  },
  {
   "cell_type": "markdown",
   "source": [
    "На данном этапе строится разреженная таблица, в которой ряды, это id пользователей, а колонки, это все уникальные зашифрованные MCC-коды. Веса - это количество встреченных MCC-кодов какого-то типа у какого-то пользователя:"
   ],
   "metadata": {
    "collapsed": false
   },
   "id": "67ba67497bfcaf5a"
  },
  {
   "cell_type": "code",
   "execution_count": 202,
   "outputs": [],
   "source": [
    "dataset = Dataset()\n",
    "dataset.fit(set(df_row), set(df_column))\n",
    "(interactions, weights) = dataset.build_interactions(interactions_data)"
   ],
   "metadata": {
    "collapsed": false,
    "ExecuteTime": {
     "end_time": "2023-10-16T16:17:03.023141Z",
     "start_time": "2023-10-16T16:17:02.827833Z"
    }
   },
   "id": "ba1c8915db27693c"
  },
  {
   "cell_type": "markdown",
   "source": [
    "Этап обучения модели. Я выбрал функию потерь WARP, так как она лучше других работает на задачах ранжирования. Нашу задачу можно интерпретировать как \"Следущие 10 рекомендуемых покупок, где первая самая вероятная\".\n",
    "Экспериментировал с количеством эпох, и пришел к выводу, что лучше всего 10:"
   ],
   "metadata": {
    "collapsed": false
   },
   "id": "1856debea1fe6e7f"
  },
  {
   "cell_type": "code",
   "execution_count": 203,
   "outputs": [
    {
     "name": "stderr",
     "output_type": "stream",
     "text": [
      "Epoch: 100%|██████████| 10/10 [00:01<00:00,  7.06it/s]\n"
     ]
    },
    {
     "data": {
      "text/plain": "<lightfm.lightfm.LightFM at 0x133405090>"
     },
     "execution_count": 203,
     "metadata": {},
     "output_type": "execute_result"
    }
   ],
   "source": [
    "model = LightFM(loss='warp')\n",
    "model.fit(interactions, sample_weight=weights,epochs=10, num_threads=4, verbose=True)"
   ],
   "metadata": {
    "collapsed": false,
    "ExecuteTime": {
     "end_time": "2023-10-16T16:17:04.662116Z",
     "start_time": "2023-10-16T16:17:03.028281Z"
    }
   },
   "id": "d6549cfeb50464e0"
  },
  {
   "cell_type": "markdown",
   "source": [
    "Предсказываем и собираем все предсказания в один массив для проверки mapk. "
   ],
   "metadata": {
    "collapsed": false
   },
   "id": "1575b596a798319f"
  },
  {
   "cell_type": "markdown",
   "source": [],
   "metadata": {
    "collapsed": false
   },
   "id": "3d54dc3531fd523b"
  },
  {
   "cell_type": "code",
   "execution_count": 204,
   "outputs": [],
   "source": [
    "all_predicted = []\n",
    "for user_to_predict in user_ids:\n",
    "    # уникальные значения для предсказания у текущего пользователя\n",
    "    vals_to_predict = list(set([mcc_to_id[x] for x in mcc_lists[user_to_predict]]))\n",
    "    user_ids_test = [user_to_predict]\n",
    "\n",
    "    predictions = model.predict(user_to_predict, vals_to_predict)\n",
    "    \n",
    "    #LightFM возвращает отрицательные значения весов (в этой библиотеке)\n",
    "    predicted_ids = np.argsort(-predictions)\n",
    "    predicted_mcc_codes = [id_to_mcc[vals_to_predict[x]] for x in predicted_ids]\n",
    "    # Нахожу самый часто встречаемый MCC у пользователя\n",
    "    counter = Counter(vals_to_predict)\n",
    "    most_popular_mcc_value = counter.most_common(1)[0][0]\n",
    "    # Если предсказанных значений меньше 10, то добавляем самое популярное значение\n",
    "    while len(predicted_mcc_codes) <= 10:\n",
    "        predicted_mcc_codes.append(most_popular_mcc_value)\n",
    "    all_predicted.append(predicted_mcc_codes[:10])"
   ],
   "metadata": {
    "collapsed": false,
    "ExecuteTime": {
     "end_time": "2023-10-16T16:17:07.512353Z",
     "start_time": "2023-10-16T16:17:04.464346Z"
    }
   },
   "id": "335d53c25584ce79"
  },
  {
   "cell_type": "code",
   "execution_count": 206,
   "outputs": [
    {
     "name": "stdout",
     "output_type": "stream",
     "text": [
      "0.290096777324134\n"
     ]
    }
   ],
   "source": [
    "print(mapk(mcc_lists_train_target, all_predicted))"
   ],
   "metadata": {
    "collapsed": false,
    "ExecuteTime": {
     "end_time": "2023-10-16T16:17:07.574539Z",
     "start_time": "2023-10-16T16:17:07.522201Z"
    }
   },
   "id": "5f6fe5e3d25f2ae4"
  },
  {
   "cell_type": "code",
   "execution_count": null,
   "outputs": [],
   "source": [],
   "metadata": {
    "collapsed": false
   },
   "id": "c7c7be83e2485ee1"
  }
 ],
 "metadata": {
  "kernelspec": {
   "display_name": "Python 3",
   "language": "python",
   "name": "python3"
  },
  "language_info": {
   "codemirror_mode": {
    "name": "ipython",
    "version": 2
   },
   "file_extension": ".py",
   "mimetype": "text/x-python",
   "name": "python",
   "nbconvert_exporter": "python",
   "pygments_lexer": "ipython2",
   "version": "2.7.6"
  }
 },
 "nbformat": 4,
 "nbformat_minor": 5
}
